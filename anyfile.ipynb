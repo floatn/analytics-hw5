{
 "cells": [
  {
   "cell_type": "code",
   "execution_count": 1,
   "id": "bd6dab82-00f2-477e-bd8e-abaca1fb165f",
   "metadata": {},
   "outputs": [
    {
     "name": "stdout",
     "output_type": "stream",
     "text": [
      "Hello, World!\n"
     ]
    }
   ],
   "source": [
    "print('Hello, World!')"
   ]
  },
  {
   "cell_type": "code",
   "execution_count": 1,
   "id": "31fd2daa-0412-4c3a-ba98-b62bbee01eca",
   "metadata": {},
   "outputs": [
    {
     "name": "stdout",
     "output_type": "stream",
     "text": [
      "[NbConvertApp] Converting notebook anyfile.ipynb to script\n",
      "[NbConvertApp] Writing 88 bytes to anyfile.py\n"
     ]
    }
   ],
   "source": [
    "!jupyter nbconvert --to script anyfile.ipynb"
   ]
  },
  {
   "cell_type": "code",
   "execution_count": null,
   "id": "0233d486-6deb-40ce-b396-90d305f4998e",
   "metadata": {},
   "outputs": [],
   "source": []
  }
 ],
 "metadata": {
  "kernelspec": {
   "display_name": "Python 3 (ipykernel)",
   "language": "python",
   "name": "python3"
  },
  "language_info": {
   "codemirror_mode": {
    "name": "ipython",
    "version": 3
   },
   "file_extension": ".py",
   "mimetype": "text/x-python",
   "name": "python",
   "nbconvert_exporter": "python",
   "pygments_lexer": "ipython3",
   "version": "3.12.7"
  }
 },
 "nbformat": 4,
 "nbformat_minor": 5
}
